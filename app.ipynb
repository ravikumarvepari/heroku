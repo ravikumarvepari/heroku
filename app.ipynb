{
 "cells": [
  {
   "cell_type": "code",
   "execution_count": 6,
   "metadata": {},
   "outputs": [
    {
     "name": "stdout",
     "output_type": "stream",
     "text": [
      "Dash is running on http://127.0.0.1:8050/\n",
      "\n",
      " * Serving Flask app \"__main__\" (lazy loading)\n",
      " * Environment: production\n",
      "\u001b[31m   WARNING: This is a development server. Do not use it in a production deployment.\u001b[0m\n",
      "\u001b[2m   Use a production WSGI server instead.\u001b[0m\n",
      " * Debug mode: off\n"
     ]
    },
    {
     "name": "stderr",
     "output_type": "stream",
     "text": [
      " * Running on http://127.0.0.1:8050/ (Press CTRL+C to quit)\n",
      "127.0.0.1 - - [20/May/2021 14:39:23] \"\u001b[37mGET / HTTP/1.1\u001b[0m\" 200 -\n",
      "127.0.0.1 - - [20/May/2021 14:39:23] \"\u001b[37mGET /_dash-component-suites/dash_renderer/react@16.v1_9_1m1617985068.14.0.min.js HTTP/1.1\u001b[0m\" 200 -\n",
      "127.0.0.1 - - [20/May/2021 14:39:23] \"\u001b[37mGET /_dash-component-suites/dash_renderer/prop-types@15.v1_9_1m1617985068.7.2.min.js HTTP/1.1\u001b[0m\" 200 -\n",
      "127.0.0.1 - - [20/May/2021 14:39:23] \"\u001b[37mGET /_dash-component-suites/dash_renderer/react-dom@16.v1_9_1m1617985068.14.0.min.js HTTP/1.1\u001b[0m\" 200 -\n",
      "127.0.0.1 - - [20/May/2021 14:39:23] \"\u001b[37mGET /_dash-component-suites/dash_renderer/polyfill@7.v1_9_1m1617985068.8.7.min.js HTTP/1.1\u001b[0m\" 200 -\n",
      "127.0.0.1 - - [20/May/2021 14:39:23] \"\u001b[37mGET /_dash-component-suites/dash_html_components/dash_html_components.v1_1_3m1617985573.min.js HTTP/1.1\u001b[0m\" 200 -\n",
      "127.0.0.1 - - [20/May/2021 14:39:23] \"\u001b[37mGET /_dash-component-suites/dash_core_components/dash_core_components-shared.v1_16_0m1617985098.js HTTP/1.1\u001b[0m\" 200 -\n",
      "127.0.0.1 - - [20/May/2021 14:39:23] \"\u001b[37mGET /_dash-component-suites/dash_renderer/dash_renderer.v1_9_1m1617985068.min.js HTTP/1.1\u001b[0m\" 200 -\n",
      "127.0.0.1 - - [20/May/2021 14:39:23] \"\u001b[37mGET /_dash-component-suites/dash_core_components/dash_core_components.v1_16_0m1617985098.min.js HTTP/1.1\u001b[0m\" 200 -\n",
      "127.0.0.1 - - [20/May/2021 14:39:25] \"\u001b[37mGET /_dash-layout HTTP/1.1\u001b[0m\" 200 -\n",
      "127.0.0.1 - - [20/May/2021 14:39:25] \"\u001b[37mGET /_dash-dependencies HTTP/1.1\u001b[0m\" 200 -\n",
      "127.0.0.1 - - [20/May/2021 14:39:25] \"\u001b[37mGET /_favicon.ico?v=1.20.0 HTTP/1.1\u001b[0m\" 200 -\n",
      "127.0.0.1 - - [20/May/2021 14:39:25] \"\u001b[37mGET /_dash-component-suites/dash_core_components/async-graph.v1_16_0m1617903285.js HTTP/1.1\u001b[0m\" 200 -\n",
      "127.0.0.1 - - [20/May/2021 14:39:25] \"\u001b[37mGET /_dash-component-suites/dash_core_components/async-plotlyjs.v1_16_0m1617903285.js HTTP/1.1\u001b[0m\" 200 -\n"
     ]
    }
   ],
   "source": [
    "import dash\n",
    "import dash_core_components as dcc\n",
    "import dash_html_components as dhc\n",
    "import pandas as pd\n",
    "\n",
    "data = pd.read_csv(\"avocado.csv\")\n",
    "data = data.query(\"type == 'conventional' and region == 'Albany'\")\n",
    "data[\"Date\"] = pd.to_datetime(data[\"Date\"], format=\"%Y-%m-%d\")\n",
    "data.sort_values(\"Date\", inplace=True)\n",
    "\n",
    "app = dash.Dash(__name__)\n",
    "\n",
    "app.layout = dhc.Div(\n",
    "    children=[\n",
    "        dhc.H1(children=\"Avocado Analytics\",),\n",
    "        dhc.P(\n",
    "            children=\"Analyze the behavior of avocado prices\"\n",
    "            \" and the number of avocados sold in the US\"\n",
    "            \" between 2015 and 2018\",\n",
    "        ),\n",
    "        dcc.Graph(\n",
    "            figure={\n",
    "                \"data\": [\n",
    "                    {\n",
    "                        \"x\": data[\"Date\"],\n",
    "                        \"y\": data[\"AveragePrice\"],\n",
    "                        \"type\": \"lines\",\n",
    "                    },\n",
    "                ],\n",
    "                \"layout\": {\"title\": \"Average Price of Avocados\"},\n",
    "            },\n",
    "        ),\n",
    "        dcc.Graph(\n",
    "            figure={\n",
    "                \"data\": [\n",
    "                    {\n",
    "                        \"x\": data[\"Date\"],\n",
    "                        \"y\": data[\"Total Volume\"],\n",
    "                        \"type\": \"lines\",\n",
    "                    },\n",
    "                ],\n",
    "                \"layout\": {\"title\": \"Avocados Sold\"},\n",
    "            },\n",
    "        ),\n",
    "    ],\n",
    ")\n",
    "\n",
    "if __name__ == \"__main__\":\n",
    "    app.run_server(debug=False)"
   ]
  },
  {
   "cell_type": "code",
   "execution_count": null,
   "metadata": {},
   "outputs": [],
   "source": [
    "%tb"
   ]
  },
  {
   "cell_type": "code",
   "execution_count": null,
   "metadata": {},
   "outputs": [],
   "source": []
  }
 ],
 "metadata": {
  "kernelspec": {
   "display_name": "Python 3",
   "language": "python",
   "name": "python3"
  }
 },
 "nbformat": 4,
 "nbformat_minor": 4
}
